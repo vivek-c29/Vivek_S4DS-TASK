{
 "cells": [
  {
   "cell_type": "markdown",
   "id": "a0c712fd-6a1a-4084-bf49-8cc1a807c1f5",
   "metadata": {},
   "source": [
    "## Original"
   ]
  },
  {
   "cell_type": "code",
   "execution_count": 17,
   "id": "99ab37ab-2c4d-41cb-9fd3-07dc80e62ecb",
   "metadata": {},
   "outputs": [
    {
     "name": "stdout",
     "output_type": "stream",
     "text": [
      "{'P0': [7, 4, 3], 'P1': [1, 2, 2], 'P2': [6, 0, 0], 'P3': [0, 1, 1], 'P4': [4, 3, 1]}\n",
      "Safe sequence found...\n",
      "Safe sequence is:\n",
      "P1->P3->P4->P0->P2\n",
      "Available: [10, 5, 7]\n"
     ]
    }
   ],
   "source": [
    "def calc_need(allocated,max_need):\n",
    "    need={}\n",
    "    for pid in allocated:\n",
    "        max_list=max_need[pid]\n",
    "        alloc_list=allocated[pid]\n",
    "        vals=[]\n",
    "        for i in range(len(max_list)):\n",
    "            vals.append(max_list[i]-alloc_list[i])\n",
    "        need[pid]=vals\n",
    "    return need\n",
    "\n",
    "def bankers(allocated,max_need,available):\n",
    "    safe_seq=[]\n",
    "    need=calc_need(allocated,max_need)\n",
    "    not_processed=0\n",
    "    processes=[]\n",
    "    for pid in allocated:\n",
    "        processes.append(pid)\n",
    "    total_processes=len(processes)\n",
    "    while not_processed<total_processes and len(safe_seq)!=total_processes:\n",
    "        pid=processes.pop(0)\n",
    "        if available>=need[pid]:\n",
    "            safe_seq.append(pid)\n",
    "            not_processed=0\n",
    "            for i in range(len(available)):\n",
    "                available[i]+=allocated[pid][i]\n",
    "        else:\n",
    "            not_processed+=1\n",
    "            processes.append(pid)\n",
    "\n",
    "    if len(safe_seq)!=total_processes:\n",
    "        print(\"Safe sequence Not Found:)\")\n",
    "    else:\n",
    "        print(\"Safe sequence found...\")\n",
    "        print(\"Safe sequence is:\")\n",
    "        print(*safe_seq,sep=\"->\")\n",
    "        print(\"Available:\",available)\n",
    "allocated={\"P0\":[0,1,0],\"P1\":[2,0,0],\"P2\":[3,0,2],\"P3\":[2,1,1],\"P4\":[0,0,2]}\n",
    "max_need={\"P0\":[7,5,3],\"P1\":[3,2,2],\"P2\":[9,0,2],\"P3\":[2,2,2],\"P4\":[4,3,3]}\n",
    "available=[3,3,2]\n",
    "print(calc_need(allocated,max_need))\n",
    "bankers(allocated,max_need,available)"
   ]
  },
  {
   "cell_type": "markdown",
   "id": "fa17289b-7d06-4e71-afba-c188d7695154",
   "metadata": {},
   "source": [
    "### Practice"
   ]
  },
  {
   "cell_type": "code",
   "execution_count": 26,
   "id": "8b4ef9af-3d72-466e-8183-d639bb804a9e",
   "metadata": {},
   "outputs": [
    {
     "name": "stdout",
     "output_type": "stream",
     "text": [
      "{'P0': [7, 4, 3], 'P1': [1, 2, 2], 'P2': [6, 0, 0], 'P3': [0, 1, 1], 'P4': [4, 3, 1]}\n",
      "Safe sequence found...\n",
      "P1->P3->P4->P0->P2\n",
      "5\n"
     ]
    }
   ],
   "source": [
    "def calc_need(allocated,max_need):\n",
    "    need={}\n",
    "    for pid in allocated:\n",
    "        alloc_list=allocated[pid]\n",
    "        max_need_list=max_need[pid]\n",
    "        list_vals=[]\n",
    "        for i in range(len(alloc_list)):\n",
    "            list_vals.append(max_need_list[i]-alloc_list[i])\n",
    "        need[pid]=list_vals\n",
    "    return need\n",
    "\n",
    "\n",
    "def bankers(allocated,max_need,available):\n",
    "    need=calc_need(allocated,max_need)\n",
    "    safe_seq=[]\n",
    "    n_processed=0\n",
    "    processes=[]\n",
    "    for pid in allocated:\n",
    "        processes.append(pid)\n",
    "    total_processes=len(processes)\n",
    "    while n_processed<total_processes and len(safe_seq)!=total_processes:\n",
    "        pid=processes.pop(0)\n",
    "        if need[pid]<=available:\n",
    "            safe_seq.append(pid)\n",
    "            n_processed=0\n",
    "            for i in range(len(available)):\n",
    "                available[i]+=allocated[pid][i]\n",
    "        else:\n",
    "            n_processed+=1\n",
    "            processes.append(pid)\n",
    "    if len(safe_seq)!=total_processes:\n",
    "        print(\"Safe sequence Not found:)\")\n",
    "    else:\n",
    "        print(\"Safe sequence found...\")\n",
    "        print(*safe_seq,sep='->')\n",
    "allocated={\"P0\":[0,1,0],\"P1\":[2,0,0],\"P2\":[3,0,2],\"P3\":[2,1,1],\"P4\":[0,0,2]}\n",
    "max_need={\"P0\":[7,5,3],\"P1\":[3,2,2],\"P2\":[9,0,2],\"P3\":[2,2,2],\"P4\":[4,3,3]}\n",
    "available=[3,3,2]\n",
    "print(calc_need(allocated,max_need))\n",
    "bankers(allocated,max_need,available)   \n",
    "print(len(allocated))"
   ]
  },
  {
   "cell_type": "code",
   "execution_count": null,
   "id": "630cbbc4-9c31-4c62-8965-2a674cf3cb2a",
   "metadata": {},
   "outputs": [],
   "source": []
  }
 ],
 "metadata": {
  "kernelspec": {
   "display_name": "Python 3 (ipykernel)",
   "language": "python",
   "name": "python3"
  },
  "language_info": {
   "codemirror_mode": {
    "name": "ipython",
    "version": 3
   },
   "file_extension": ".py",
   "mimetype": "text/x-python",
   "name": "python",
   "nbconvert_exporter": "python",
   "pygments_lexer": "ipython3",
   "version": "3.12.4"
  }
 },
 "nbformat": 4,
 "nbformat_minor": 5
}
