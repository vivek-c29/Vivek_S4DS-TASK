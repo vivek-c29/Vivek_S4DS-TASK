{
 "cells": [
  {
   "cell_type": "markdown",
   "id": "6f062437-635d-4344-adf3-d96fedd6324d",
   "metadata": {},
   "source": [
    "### First Fit"
   ]
  },
  {
   "cell_type": "code",
   "execution_count": 11,
   "id": "d81a4ff8-caf8-46f9-970a-3f4f5123398d",
   "metadata": {},
   "outputs": [
    {
     "name": "stdin",
     "output_type": "stream",
     "text": [
      "Enter no. of memory blocks: 5\n",
      "Enter no. of Processes: 4\n",
      "Enter Memory size of block0: 100\n",
      "Enter Memory size of block1: 500\n",
      "Enter Memory size of block2: 200\n",
      "Enter Memory size of block3: 300\n",
      "Enter Memory size of block4: 600\n",
      "Enter Process size of process0: 212\n",
      "Enter Process size of process1: 417\n",
      "Enter Process size of process2: 112\n",
      "Enter Process size of process3: 426\n"
     ]
    },
    {
     "name": "stdout",
     "output_type": "stream",
     "text": [
      "Process0 is allocated to Block 1\n",
      "Process1 is allocated to Block 4\n",
      "Process2 is allocated to Block 1\n",
      "Process3 is not allocated to any of the block\n",
      "Fragment of Block 0 is 100\n",
      "Fragment of Block 1 is 176\n",
      "Fragment of Block 2 is 200\n",
      "Fragment of Block 3 is 300\n",
      "Fragment of Block 4 is 183\n",
      "{0: 1, 1: 4, 2: 1, 3: None}\n"
     ]
    }
   ],
   "source": [
    "p_size={}\n",
    "b_size={}\n",
    "\n",
    "nb=int(input(\"Enter no. of memory blocks:\"))\n",
    "np=int(input(\"Enter no. of Processes:\"))\n",
    "allocated={}\n",
    "for i in range(nb):\n",
    "    a=int(input(f\"Enter Memory size of Block {i}:\"))\n",
    "    b_size[i]=a\n",
    "for i in range(np):\n",
    "    a=int(input(f\"Enter Process size of Process {i}:\"))\n",
    "    p_size[i]=a\n",
    "\n",
    "for process_id,process_size in p_size.items():\n",
    "    allocate=False\n",
    "    for block_id,block_size in b_size.items():\n",
    "        if process_size<=block_size:\n",
    "            allocate=True\n",
    "            allocated[process_id]=block_id\n",
    "            b_size[block_id]-=process_size\n",
    "            break\n",
    "    if not allocate:\n",
    "        allocated[process_id]=None\n",
    "for process_id in p_size:\n",
    "    if allocated[process_id] is not None:\n",
    "        print(f\"Process{process_id} is allocated to Block {allocated[process_id]}\")\n",
    "    else:\n",
    "        print(f\"Process{process_id} is not allocated to any of the block\")\n",
    "for block_id in b_size:\n",
    "    print(f\"Fragment of Block {block_id} is {b_size[block_id]}\")\n",
    "print(allocated)"
   ]
  },
  {
   "cell_type": "code",
   "execution_count": 18,
   "id": "72b914d1-1cec-4d5f-b2af-de5078b84c02",
   "metadata": {},
   "outputs": [
    {
     "name": "stdout",
     "output_type": "stream",
     "text": [
      "nan\n"
     ]
    }
   ],
   "source": [
    "print(float('inf')-float('inf'))"
   ]
  },
  {
   "cell_type": "markdown",
   "id": "87461ec3-ffc3-445e-acca-9d0a385b753d",
   "metadata": {},
   "source": [
    "### Best Fit"
   ]
  },
  {
   "cell_type": "code",
   "execution_count": 29,
   "id": "32c4d5de-70e8-4d5f-93dd-bd3329d09c8c",
   "metadata": {
    "scrolled": true
   },
   "outputs": [
    {
     "name": "stdin",
     "output_type": "stream",
     "text": [
      "Enter No. of Memory blocks: 5\n",
      "Enter No. of Processes: 4\n",
      "Enter size of memory for Block 0:  100\n",
      "Enter size of memory for Block 1:  500\n",
      "Enter size of memory for Block 2:  200\n",
      "Enter size of memory for Block 3:  300\n",
      "Enter size of memory for Block 4:  600\n",
      "Enter Process size of Process 0:  212\n",
      "Enter Process size of Process 1:  417\n",
      "Enter Process size of Process 2:  112\n",
      "Enter Process size of Process 3:  426\n"
     ]
    },
    {
     "name": "stdout",
     "output_type": "stream",
     "text": [
      "Process 0 of size 212 is allocated to Block 3\n",
      "Process 1 of size 417 is allocated to Block 1\n",
      "Process 2 of size 112 is allocated to Block 2\n",
      "Process 3 of size 426 is allocated to Block 4\n",
      "Fragment of Block 0 is :100\n",
      "Fragment of Block 1 is :83\n",
      "Fragment of Block 2 is :88\n",
      "Fragment of Block 3 is :88\n",
      "Fragment of Block 4 is :174\n"
     ]
    }
   ],
   "source": [
    "nb=int(input(\"Enter No. of Memory blocks:\"))\n",
    "np=int(input(\"Enter No. of Processes:\"))\n",
    "b_size={}\n",
    "p_size={}\n",
    "allocated={}\n",
    "\n",
    "for i in range(nb):\n",
    "    b=int(input(f\"Enter size of memory for Block {i}: \"))\n",
    "    b_size[i]=b\n",
    "\n",
    "for i in range(np):\n",
    "    p=int(input(f\"Enter Process size of Process {i}: \"))\n",
    "    p_size[i]=p\n",
    "\n",
    "for process_id,process_size in p_size.items():\n",
    "    flag=False\n",
    "    best_fit=None\n",
    "    min_fragment=float('inf')\n",
    "    for block_id,block_size in b_size.items():\n",
    "        if process_size<=block_size and min_fragment>(block_size-process_size):\n",
    "            min_fragment=block_size-process_size\n",
    "            best_fit=block_id\n",
    "            flag=True\n",
    "    if flag:\n",
    "        b_size[best_fit]-=process_size\n",
    "        allocated[process_id]=best_fit\n",
    "    else:\n",
    "        allocated[process_id]=None\n",
    "for process_id,process_size in p_size.items():\n",
    "    print(f\"Process {process_id} of size {process_size} is allocated to Block {allocated[process_id]}\")\n",
    "for block_id in b_size:\n",
    "    print(f\"Fragment of Block {block_id} is :{b_size[block_id]}\")"
   ]
  },
  {
   "cell_type": "markdown",
   "id": "8e289974-6c07-4923-8ac8-e1db84fdc5a5",
   "metadata": {},
   "source": [
    "### Worst Fit"
   ]
  },
  {
   "cell_type": "code",
   "execution_count": 35,
   "id": "369601c7-67a6-490e-abdf-d24bd63deaff",
   "metadata": {},
   "outputs": [
    {
     "name": "stdin",
     "output_type": "stream",
     "text": [
      "Enter No. of Memory Blocks:  5\n",
      "Enter No. of Processes:  4\n",
      "Enter Memoory size of Block 0:  100\n",
      "Enter Memoory size of Block 1:  500\n",
      "Enter Memoory size of Block 2:  200\n",
      "Enter Memoory size of Block 3:  300\n",
      "Enter Memoory size of Block 4:  600\n",
      "Enter Process size of Process 0: 212\n",
      "Enter Process size of Process 1: 417\n",
      "Enter Process size of Process 2: 112\n",
      "Enter Process size of Process 3: 426\n"
     ]
    },
    {
     "name": "stdout",
     "output_type": "stream",
     "text": [
      "Process 0 of size 212 is allocated to Block 4\n",
      "Process 1 of size 417 is allocated to Block 1\n",
      "Process 2 of size 112 is allocated to Block 4\n",
      "Process 3 of size 426 is allocated to Block None\n",
      "Fragment of Block 0 is 100\n",
      "Fragment of Block 1 is 83\n",
      "Fragment of Block 2 is 200\n",
      "Fragment of Block 3 is 300\n",
      "Fragment of Block 4 is 276\n"
     ]
    }
   ],
   "source": [
    "b_size={}\n",
    "p_size={}\n",
    "allocated={}\n",
    "\n",
    "nb=int(input(f\"Enter No. of Memory Blocks: \"))\n",
    "np=int(input(\"Enter No. of Processes: \"))\n",
    "\n",
    "for i in range(nb):\n",
    "    a=int(input(f\"Enter Memoory size of Block {i}: \"))\n",
    "    b_size[i]=a\n",
    "for i in range(np):\n",
    "    p=int(input(f\"Enter Process size of Process {i}:\"))\n",
    "    p_size[i]=p\n",
    "\n",
    "for process_id,process_size in p_size.items():\n",
    "    max_fragment=-float('inf')\n",
    "    flag=False\n",
    "    worst_fit=None\n",
    "    for block_id,block_size in b_size.items():\n",
    "        if process_size<=block_size and max_fragment<(block_size-process_size):\n",
    "            max_fragment=block_size-process_size\n",
    "            worst_fit=block_id\n",
    "            flag=True\n",
    "    if flag:\n",
    "        allocated[process_id]=worst_fit\n",
    "        b_size[worst_fit]-=process_size\n",
    "    else:\n",
    "        allocated[process_id]=None\n",
    "\n",
    "for process_id in p_size:\n",
    "    print(f\"Process {process_id} of size {p_size[process_id]} is allocated to Block {allocated[process_id]}\")\n",
    "for block_id in b_size:\n",
    "    print(f\"Fragment of Block {block_id} is {b_size[block_id]}\")\n"
   ]
  },
  {
   "cell_type": "code",
   "execution_count": null,
   "id": "823fb219-b5d6-4bdd-a7a4-e961b05eeb0d",
   "metadata": {},
   "outputs": [],
   "source": []
  }
 ],
 "metadata": {
  "kernelspec": {
   "display_name": "Python 3 (ipykernel)",
   "language": "python",
   "name": "python3"
  },
  "language_info": {
   "codemirror_mode": {
    "name": "ipython",
    "version": 3
   },
   "file_extension": ".py",
   "mimetype": "text/x-python",
   "name": "python",
   "nbconvert_exporter": "python",
   "pygments_lexer": "ipython3",
   "version": "3.12.4"
  }
 },
 "nbformat": 4,
 "nbformat_minor": 5
}
