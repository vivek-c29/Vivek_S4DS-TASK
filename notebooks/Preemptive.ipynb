{
 "cells": [
  {
   "cell_type": "markdown",
   "id": "200d477a-79a3-4d0f-9181-6b79cb65a1e3",
   "metadata": {},
   "source": [
    "### Priority(Preemptive)"
   ]
  },
  {
   "cell_type": "code",
   "execution_count": 2,
   "id": "2644b0ab-069a-4846-82b4-9c9bbb9f0550",
   "metadata": {},
   "outputs": [
    {
     "name": "stdout",
     "output_type": "stream",
     "text": [
      "['p4', 'p4', 'p4', 'p3', 'p5', 'p2', 'p2', 'p5', 'p5', 'p5', 'p3', 'p3', 'p3', 'p3', 'p3', 'p3', 'p3', 'p1', 'p1', 'p1', 'p1', 'p1', 'p1']\n",
      "{'p4': [3, 3, 0], 'p2': [7, 2, 0], 'p5': [10, 6, 2], 'p3': [17, 16, 8], 'p1': [23, 21, 15]}\n"
     ]
    }
   ],
   "source": [
    "#Process=Priority,pid,burst,arrival\n",
    "def priority_preemptive(process_list):\n",
    "    gantt=[]\n",
    "    t=0\n",
    "    burst_time={}\n",
    "    completed={}\n",
    "    for i in process_list:\n",
    "        burst_time[i[1]]=i[2]\n",
    "    while process_list!=[]:\n",
    "        available=[]\n",
    "        for p in process_list:\n",
    "            arrival_time=p[3]\n",
    "            if arrival_time<=t:\n",
    "                available.append(p)\n",
    "        if available==[]:\n",
    "            gantt.append('Idle')\n",
    "            t+=1\n",
    "            continue\n",
    "        else:\n",
    "            available.sort()\n",
    "            process=available[0]\n",
    "            gantt.append(process[1])\n",
    "            t+=1\n",
    "            process[2]-=1\n",
    "            process_list.remove(process)\n",
    "            if process[2]==0:\n",
    "                arrival_time=process[3]\n",
    "                ct=t\n",
    "                tat=ct-arrival_time\n",
    "                wt=tat-burst_time[process[1]]\n",
    "                completed[process[1]]=[ct,tat,wt]\n",
    "                continue\n",
    "            else:\n",
    "                process_list.append(process)\n",
    "    print(gantt)\n",
    "    print(completed)\n",
    "\n",
    "\n",
    "priority_preemptive(process_list)\n",
    "                \n",
    "        \n"
   ]
  },
  {
   "cell_type": "code",
   "execution_count": 9,
   "id": "70ac2893-a2e6-4fc9-9814-c653e97d2562",
   "metadata": {},
   "outputs": [
    {
     "name": "stdout",
     "output_type": "stream",
     "text": [
      "->p4->1 ->p4->2 ->p4->3 ->p3->4 ->p5->5 ->p2->6 ->p2->7 ->p5->8 ->p5->9 ->p5->10 ->p3->11 ->p3->12 ->p3->13 ->p3->14 ->p3->15 ->p3->16 ->p3->17 ->p1->18 ->p1->19 ->p1->20 ->p1->21 ->p1->22 ->p1->23\n",
      "{'p4': [3, 3, 0], 'p2': [7, 2, 0], 'p5': [10, 6, 2], 'p3': [17, 16, 8], 'p1': [23, 21, 15]}\n"
     ]
    }
   ],
   "source": [
    "process_list=[[5,\"p1\",6,2],[2,\"p2\",2,5],[4,\"p3\",8,1],[1,\"p4\",3,0],[3,\"p5\",4,4]]\n",
    "def priority(process_list):\n",
    "    gantt=[]\n",
    "    t=0\n",
    "    completed={}\n",
    "    burst_time={}\n",
    "    for p in process_list:\n",
    "        burst_time[p[1]]=p[2]\n",
    "    while process_list!=[]:\n",
    "        available=[]\n",
    "        for i in process_list:\n",
    "            arrival_time=i[3]\n",
    "            if arrival_time<=t:\n",
    "                available.append(i)\n",
    "            \n",
    "        if available==[]:\n",
    "            gantt.append('Idle')\n",
    "            t+=1\n",
    "            continue\n",
    "        else:\n",
    "            available.sort()\n",
    "            process=available[0]\n",
    "            t+=1\n",
    "            gantt.append('->'+process[1]+f'->{t}')\n",
    "            process[2]-=1\n",
    "            process_list.remove(process)\n",
    "            if process[2]==0:\n",
    "                arrival_time=process[3]\n",
    "                pid=process[1]\n",
    "                # t+=burst_time[pid]\n",
    "                ct=t\n",
    "                tat=ct-arrival_time\n",
    "                wt=tat-burst_time[pid]\n",
    "                completed[pid]=[ct,tat,wt]\n",
    "                continue\n",
    "            else:\n",
    "                process_list.append(process)\n",
    "    print(*gantt)\n",
    "    print(completed)\n",
    "\n",
    "priority(process_list)"
   ]
  },
  {
   "cell_type": "markdown",
   "id": "62bbb3df-f569-448a-bba3-25db57ff3327",
   "metadata": {},
   "source": [
    "### SRTF(Premeptive)"
   ]
  },
  {
   "cell_type": "code",
   "execution_count": 7,
   "id": "265a1fec-589e-468e-b2c0-4656420db17a",
   "metadata": {},
   "outputs": [
    {
     "name": "stdout",
     "output_type": "stream",
     "text": [
      "0 ->p4 ->p4 ->p4 ->p1 ->p5 ->p2 ->p2 ->p5 ->p5 ->p5 ->p1 ->p1 ->p1 ->p1 ->p1 ->p3 ->p3 ->p3 ->p3 ->p3 ->p3 ->p3 ->p3\n",
      "{'p4': [3, 3, 0], 'p2': [7, 2, 0], 'p5': [10, 6, 2], 'p1': [15, 13, 7], 'p3': [23, 22, 14]}\n"
     ]
    }
   ],
   "source": [
    "def srtf(process_list):\n",
    "    completed={}\n",
    "    gantt=[]\n",
    "    burst_time={}\n",
    "    t=0\n",
    "    gantt.append('0')\n",
    "    for i in process_list:\n",
    "        burst_time[i[2]]=i[0]\n",
    "    while process_list!=[]:\n",
    "        available=[]\n",
    "        for p in process_list:\n",
    "            if p[1]<=t:\n",
    "                available.append(p)\n",
    "        if available==[]:\n",
    "            t+=1\n",
    "            gantt.append('->Idle')\n",
    "            continue\n",
    "        else:\n",
    "            available.sort()\n",
    "            process=available.pop(0)\n",
    "            copy_process=process\n",
    "            process_list.remove(process)\n",
    "            process[0]-=1\n",
    "            t+=1\n",
    "            gantt.append(f'->{process[2]}')\n",
    "            if process[0]==0:\n",
    "                arriavl=process[1]\n",
    "                burst=burst_time[process[2]]\n",
    "                ct=t\n",
    "                tat=ct-arriavl\n",
    "                wt=tat-burst\n",
    "                completed[process[2]]=[ct,tat,wt]\n",
    "            else:\n",
    "                process_list.append(copy_process)\n",
    "                \n",
    "    print(*gantt)  \n",
    "    print(completed)\n",
    "                \n",
    "\n",
    "\n",
    "process_list=[[6,2,\"p1\"],[2,5,\"p2\"],[8,1,\"p3\"],[3,0,\"p4\"],[4,4,\"p5\"]]\n",
    "srtf(process_list)"
   ]
  },
  {
   "cell_type": "markdown",
   "id": "77f6c76e-847d-485f-8a43-20c73a47c51b",
   "metadata": {},
   "source": [
    "### Round Robin(Preemptive)"
   ]
  },
  {
   "cell_type": "code",
   "execution_count": 5,
   "id": "56e3f11d-71b1-4c3f-b540-d8072a284da5",
   "metadata": {},
   "outputs": [
    {
     "name": "stdout",
     "output_type": "stream",
     "text": [
      "3\n",
      "Gantt Chart : 0 ->P0->3 ->P1->6 ->P2->9 ->P0->12 ->P1->13 ->P2->16 ->P0->19 ->P2->22\n",
      "Completion time : [19, 13, 22]\n",
      "Turn around time : [19, 12, 20]\n",
      "Waitiing time : [10, 8, 11]\n"
     ]
    }
   ],
   "source": [
    "def round_robin(processes,time_quantum):\n",
    "    n=len(processes)\n",
    "    completion_time=[0]*n\n",
    "    turn_around_time=[0]*n\n",
    "    waiting_time=[0]*n\n",
    "    gantt=[]\n",
    "    gantt.append('0')\n",
    "    burst_time=(list(processes[i][1] for i in range(n)))\n",
    "    remaining_time=(list(processes[i][1] for i in range(n)))\n",
    "    arrival_time=(list(processes[i][0] for i in range(n)))\n",
    "    \n",
    "    t=0\n",
    "    while True:\n",
    "        done=True\n",
    "        for i in range(n):\n",
    "            if remaining_time[i]>0:\n",
    "                done=False\n",
    "\n",
    "                if remaining_time[i]>time_quantum:\n",
    "                    remaining_time[i]-=time_quantum\n",
    "                    t+=time_quantum\n",
    "                    gantt.append(f\"->P{i}->{t}\")\n",
    "                else:\n",
    "                    t+=remaining_time[i]\n",
    "                    remaining_time[i]=0\n",
    "                    gantt.append(f\"->P{i}->{t}\")\n",
    "                    # done=True\n",
    "                    completion_time[i]=t\n",
    "        if done:\n",
    "            break\n",
    "    print(f\"Gantt Chart : \",end='')\n",
    "    print(*gantt)\n",
    "    for i in range(n):\n",
    "        turn_around_time[i]=completion_time[i]-arrival_time[i]\n",
    "        waiting_time[i]=turn_around_time[i]-burst_time[i]\n",
    "    print(f\"Completion time : {completion_time}\")\n",
    "    print(f\"Turn around time : {turn_around_time}\")\n",
    "    print(f\"Waitiing time : {waiting_time}\")\n",
    "        \n",
    "#Process : [AT,BT]\n",
    "processes = [(0, 9), (1, 4), (2, 9)]\n",
    "print(len(processes))\n",
    "time_quantum = 3\n",
    "round_robin(processes,time_quantum)"
   ]
  },
  {
   "cell_type": "markdown",
   "id": "ee0a5eea-7d6a-4e8e-8f58-b6dd16a66c97",
   "metadata": {},
   "source": []
  },
  {
   "cell_type": "code",
   "execution_count": 7,
   "id": "cb782113-03ea-42ea-9593-3dc8f9a16278",
   "metadata": {},
   "outputs": [
    {
     "name": "stdout",
     "output_type": "stream",
     "text": [
      "[10, 8, 11] [19, 12, 20]\n",
      "\n",
      "Gantt Chart:\n",
      "| P1 (0-3) | P2 (3-6) | P3 (6-9) | P1 (9-12) | P2 (12-13) | P3 (13-16) | P1 (16-19) | P3 (19-22) |\n",
      "\n",
      "Average Waiting Time: 9.67 ms\n",
      "Average Turnaround Time: 17.00 ms\n"
     ]
    }
   ],
   "source": [
    "def round_robin_scheduling(processes, time_quantum):\n",
    "    n = len(processes)\n",
    "    remaining_time = [p[1] for p in processes]\n",
    "    completion_time = [0] * n\n",
    "    t = 0\n",
    "    gantt_chart = []  # To store the sequence of executed processes\n",
    "\n",
    "    while True:\n",
    "        done = True\n",
    "        for i in range(n):\n",
    "            if remaining_time[i] > 0:\n",
    "                done = False\n",
    "                # Add the process to the Gantt chart with its execution time\n",
    "                if remaining_time[i] > time_quantum:\n",
    "                    gantt_chart.append((i + 1, t, t + time_quantum))\n",
    "                    t += time_quantum\n",
    "                    remaining_time[i] -= time_quantum\n",
    "                else:\n",
    "                    gantt_chart.append((i + 1, t, t + remaining_time[i]))\n",
    "                    t += remaining_time[i]\n",
    "                    completion_time[i] = t\n",
    "                    remaining_time[i] = 0\n",
    "\n",
    "        if done:\n",
    "            break\n",
    "\n",
    "    waiting_time = [completion_time[i] - processes[i][0] - processes[i][1] for i in range(n)]\n",
    "    turnaround_time = [completion_time[i] - processes[i][0] for i in range(n)]\n",
    "    avg_waiting_time = sum(waiting_time) / n\n",
    "    avg_turnaround_time = sum(turnaround_time) / n\n",
    "    print(waiting_time,turnaround_time)\n",
    "    # Display Gantt chart\n",
    "    print(\"\\nGantt Chart:\")\n",
    "    for process, start, end in gantt_chart:\n",
    "        print(f\"| P{process} ({start}-{end}) \", end=\"\")\n",
    "    print(\"|\")\n",
    "\n",
    "    return avg_waiting_time, avg_turnaround_time\n",
    "\n",
    "\n",
    "# Input: (arrival_time, burst_time) processes\n",
    "processes = [(0, 9), (1, 4), (2, 9)]\n",
    "time_quantum = 3\n",
    "\n",
    "avg_waiting_time, avg_turnaround_time = round_robin_scheduling(processes, time_quantum)\n",
    "\n",
    "print(f\"\\nAverage Waiting Time: {avg_waiting_time:.2f} ms\")\n",
    "print(f\"Average Turnaround Time: {avg_turnaround_time:.2f} ms\")\n"
   ]
  },
  {
   "cell_type": "code",
   "execution_count": null,
   "id": "0844faf7-1f52-4600-a188-b3b5f321d03e",
   "metadata": {},
   "outputs": [],
   "source": []
  }
 ],
 "metadata": {
  "kernelspec": {
   "display_name": "Python 3 (ipykernel)",
   "language": "python",
   "name": "python3"
  },
  "language_info": {
   "codemirror_mode": {
    "name": "ipython",
    "version": 3
   },
   "file_extension": ".py",
   "mimetype": "text/x-python",
   "name": "python",
   "nbconvert_exporter": "python",
   "pygments_lexer": "ipython3",
   "version": "3.12.4"
  }
 },
 "nbformat": 4,
 "nbformat_minor": 5
}
