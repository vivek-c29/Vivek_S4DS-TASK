{
 "cells": [
  {
   "cell_type": "markdown",
   "id": "0684d5bc-3e6f-494a-9361-66edaa13da9c",
   "metadata": {},
   "source": [
    "### FIFO"
   ]
  },
  {
   "cell_type": "code",
   "execution_count": 3,
   "id": "a3097c42-a3be-4ded-9183-3d526036c4cc",
   "metadata": {},
   "outputs": [
    {
     "name": "stdin",
     "output_type": "stream",
     "text": [
      "Enter the number of frames:  3\n",
      "Enter the page reference string (space-separated):  7 0 1 0 5 0 8 0 7 3 6 9\n"
     ]
    },
    {
     "name": "stdout",
     "output_type": "stream",
     "text": [
      "Page 7: [7]\n",
      "Page 0: [7, 0]\n",
      "Page 1: [7, 0, 1]\n",
      "Page 0: [7, 0, 1]\n",
      "Page 5: [0, 1, 5]\n",
      "Page 0: [0, 1, 5]\n",
      "Page 8: [1, 5, 8]\n",
      "Page 0: [5, 8, 0]\n",
      "Page 7: [8, 0, 7]\n",
      "Page 3: [0, 7, 3]\n",
      "Page 6: [7, 3, 6]\n",
      "Page 9: [3, 6, 9]\n",
      "Total Page Faults: 10\n",
      "Total Page Hits: 2\n",
      "Hit Ratio: 0.2\n"
     ]
    }
   ],
   "source": [
    "def fifo_page_replacement(num_frames, pages): \n",
    "    frames = []   \n",
    "    page_faults = 0 \n",
    "    page_hits = 0 \n",
    "     \n",
    "    for page in pages: \n",
    "        if page not in frames: \n",
    "            if len(frames) < num_frames: \n",
    "                frames.append(page) \n",
    "            else: \n",
    "                frames.pop(0) \n",
    "                frames.append(page) \n",
    "            page_faults += 1 \n",
    "        else: \n",
    "            page_hits += 1 \n",
    "        print(f\"Page {page}: {frames}\") \n",
    "     \n",
    "    print(f\"Total Page Faults: {page_faults}\") \n",
    "    print(f\"Total Page Hits: {page_hits}\") \n",
    "    print(\"Hit Ratio:\", page_hits/page_faults) \n",
    "num_frames = int(input(\"Enter the number of frames: \")) \n",
    "pages = list(map(int, input(\"Enter the page reference string (space-separated): \").split())) \n",
    "fifo_page_replacement(num_frames, pages)"
   ]
  },
  {
   "cell_type": "code",
   "execution_count": 10,
   "id": "f7da74b4-437d-4a04-ae4d-dffec03a4cd4",
   "metadata": {},
   "outputs": [
    {
     "name": "stdin",
     "output_type": "stream",
     "text": [
      "Enter frame size :  3\n",
      "Enter Pages in space separated form :  0 5 7\n"
     ]
    },
    {
     "name": "stdout",
     "output_type": "stream",
     "text": [
      "2\n"
     ]
    }
   ],
   "source": [
    "def fifo_page(num_frame,pages):\n",
    "    frames=[]\n",
    "    hits=0\n",
    "    faults=0\n",
    "    for page in pages:\n",
    "        if page not in frames:\n",
    "            if len(frames)<num_frame:\n",
    "                frames.append(page)\n",
    "                faults+=1\n",
    "            else:\n",
    "                frames.pop(0)\n",
    "                frames.append(page)\n",
    "                faults+=1\n",
    "        else:\n",
    "            hits+=1\n",
    "        print(f\"Page {page} : {frames}\")\n",
    "    print(f\"Hits : {hits}\")\n",
    "    print(f\"Faults : {faults}\")\n",
    "num_frame=int(input(\"Enter frame size : \"))\n",
    "# pages_str=input(\"Enter Pages in space separated form : \")\n",
    "pages=list(map(int,input(\"Enter Pages in space separated form : \").split()))\n",
    "fifo_page(num_frame,pages)\n",
    "# print(pages.index(7))"
   ]
  },
  {
   "cell_type": "code",
   "execution_count": 19,
   "id": "14b8b416-56db-4824-8aff-62dbafca24e8",
   "metadata": {},
   "outputs": [
    {
     "name": "stdin",
     "output_type": "stream",
     "text": [
      "Enter frame size :  4 \n",
      "Enter pages in space separated form 7 0 1 2 0 3 0 4 2 3 0 3 2\n"
     ]
    },
    {
     "name": "stdout",
     "output_type": "stream",
     "text": [
      "Page 7 : [7]\n",
      "Page 0 : [7, 0]\n",
      "Page 1 : [7, 0, 1]\n",
      "Page 2 : [7, 0, 1, 2]\n",
      "Page 0 : [7, 0, 1, 2]\n",
      "Page 3 : [3, 0, 1, 2]\n",
      "Page 0 : [3, 0, 1, 2]\n",
      "Page 4 : [3, 0, 4, 2]\n",
      "Page 2 : [3, 0, 4, 2]\n",
      "Page 3 : [3, 0, 4, 2]\n",
      "Page 0 : [3, 0, 4, 2]\n",
      "Page 3 : [3, 0, 4, 2]\n",
      "Page 2 : [3, 0, 4, 2]\n",
      "Hits : 7\n",
      "Faults : 6\n"
     ]
    }
   ],
   "source": [
    "def optimal_page(num_frame,pages):\n",
    "    frames=[]\n",
    "    hits=0\n",
    "    faults=0\n",
    "    for i in range(len(pages)):\n",
    "        page=pages[i]\n",
    "        if page not in frames:\n",
    "            if len(frames)<num_frame:\n",
    "                frames.append(page)\n",
    "                faults+=1\n",
    "            else:\n",
    "                farthest=-1\n",
    "                idx_to_replace=-1\n",
    "                for j in range(len(frames)):\n",
    "                    try:\n",
    "                        next_use=pages[i+1:].index(frames[j])\n",
    "                    except ValueError:\n",
    "                        next_use=float('inf')\n",
    "                    if next_use>farthest:\n",
    "                        farthest=next_use\n",
    "                        idx_to_replace=j\n",
    "                frames[idx_to_replace]=page\n",
    "                faults+=1\n",
    "                \n",
    "        else:\n",
    "            hits+=1\n",
    "        print(f\"Page {page} : {frames}\")\n",
    "    print(f\"Hits : {hits}\")\n",
    "    print(f\"Faults : {faults}\")\n",
    "num_frame=int(input(\"Enter frame size : \"))\n",
    "pages=list(map(int,input(\"Enter pages in space separated form\").split(' ')))\n",
    "optimal_page(num_frame,pages)"
   ]
  },
  {
   "cell_type": "code",
   "execution_count": 21,
   "id": "968e2617-6d4d-42df-85b8-d30ce13bb9c4",
   "metadata": {},
   "outputs": [
    {
     "name": "stdin",
     "output_type": "stream",
     "text": [
      "Enter Frame size :  4\n",
      "Enter pages in space separated form :  7 0 1 2 0 3 0 4 2 3 0 3 2 1 2 0 1 7 0 1\n"
     ]
    },
    {
     "name": "stdout",
     "output_type": "stream",
     "text": [
      "Page 7 : [7]\n",
      "Page 0 : [7, 0]\n",
      "Page 1 : [7, 0, 1]\n",
      "Page 2 : [7, 0, 1, 2]\n",
      "Page 0 : [7, 1, 2, 0]\n",
      "Page 3 : [1, 2, 0, 3]\n",
      "Page 0 : [1, 2, 3, 0]\n",
      "Page 4 : [2, 3, 0, 4]\n",
      "Page 2 : [3, 0, 4, 2]\n",
      "Page 3 : [0, 4, 2, 3]\n",
      "Page 0 : [4, 2, 3, 0]\n",
      "Page 3 : [4, 2, 0, 3]\n",
      "Page 2 : [4, 0, 3, 2]\n",
      "Page 1 : [0, 3, 2, 1]\n",
      "Page 2 : [0, 3, 1, 2]\n",
      "Page 0 : [3, 1, 2, 0]\n",
      "Page 1 : [3, 2, 0, 1]\n",
      "Page 7 : [2, 0, 1, 7]\n",
      "Page 0 : [2, 1, 7, 0]\n",
      "Page 1 : [2, 7, 0, 1]\n",
      "Hits : 12\n",
      "Faults : 8\n"
     ]
    }
   ],
   "source": [
    "def lru_page(num_frame,pages):\n",
    "    frames=[]\n",
    "    hits=0\n",
    "    faults=0\n",
    "    for i in range(len(pages)):\n",
    "        page=pages[i]\n",
    "        if page not in frames:\n",
    "            if len(frames)<num_frame:\n",
    "                frames.append(page)\n",
    "                faults+=1\n",
    "            else:\n",
    "                frames.pop(0)\n",
    "                frames.append(page)\n",
    "                faults+=1\n",
    "        else:\n",
    "            hits+=1\n",
    "            frames.remove(page)\n",
    "            frames.append(page)\n",
    "        print(f\"Page {page} : {frames}\")\n",
    "    print(f\"Hits : {hits}\")\n",
    "    print(f\"Faults : {faults}\")\n",
    "\n",
    "num_frame=int(input(\"Enter Frame size : \"))\n",
    "pages=list(map(int,input(\"Enter pages in space separated form : \").split(' ')))\n",
    "lru_page(num_frame,pages)\n",
    "    "
   ]
  },
  {
   "cell_type": "code",
   "execution_count": null,
   "id": "924e9ad1-bd3f-44cd-98c2-baa3cb1b860d",
   "metadata": {},
   "outputs": [],
   "source": [
    "def fifo_page(num_frame,pages):\n",
    "    frames=[]\n",
    "    hits=0\n",
    "    faults=0\n",
    "    for i in range(len(pages)):\n",
    "        page=pages[i]\n",
    "        if page not in pages:\n",
    "            if len(frames)<num_frame:\n",
    "                frames.append(page)\n",
    "                faults+=1\n",
    "            else:\n",
    "                frames.pop(0)\n",
    "                frames.append(page)\n",
    "                faults+=1\n",
    "        else:\n",
    "            hits+=1\n",
    "        print(f\"Page {page} : {frames} \")\n",
    "    print(f\"Hits : {hits}\")\n",
    "    print(f\"Fault : {faults}\")\n",
    "\n",
    "def lru_page(num_frame,pages):\n",
    "    frames=[]\n",
    "    hits=0\n",
    "    faults=0\n",
    "    for i in range(len(pages)):\n",
    "        page=pages[i]\n",
    "        if page not in frames:\n",
    "            if len(frames)<num_frame:\n",
    "                frames.append(page)\n",
    "                faults+=1\n",
    "            else:\n",
    "                frames.pop(0)\n",
    "                frames.append(page)\n",
    "                faults+=1\n",
    "        else:\n",
    "            hits+=1\n",
    "            frames.remove(page)\n",
    "            frames.append(page)\n",
    "        print(f\"Page {page} : {frames}\")\n",
    "    print(f\"Hits : {hits}\")\n",
    "    print(f\"Faults : {faults}\")\n",
    "\n",
    "\n",
    "def optimal_page(num_frame,pages):\n",
    "    frames=[]\n",
    "    hits=0\n",
    "    faults=0\n",
    "    for i in range(len(pages):\n",
    "        page=pages[i]\n",
    "        if page not in frames:\n",
    "            if len(frames)<num_frame:\n",
    "                frames.append(pages)\n",
    "                faults+=1\n",
    "            else:\n",
    "                farthest=-1\n",
    "                idx_to_replace=-1\n",
    "                for j in range(len(frames)):\n",
    "                    try:\n",
    "                        next_use=pages[i+1:].index(frames[j])\n",
    "                    except ValueError:\n",
    "                        next_use=float('inf')\n",
    "                    if next_use>farthest:\n",
    "                        farthest=next_use\n",
    "                        idx_to_replace=j\n",
    "                frames[idx_to_replace]=page\n",
    "                faults+=1\n",
    "        else:\n",
    "            hits+=1\n",
    "        print(f\"Page {page} : {frames}\")\n",
    "    print(f\"Hits : {hits}\")\n",
    "    print(f\"Faults : {faults}\")"
   ]
  }
 ],
 "metadata": {
  "kernelspec": {
   "display_name": "Python 3 (ipykernel)",
   "language": "python",
   "name": "python3"
  },
  "language_info": {
   "codemirror_mode": {
    "name": "ipython",
    "version": 3
   },
   "file_extension": ".py",
   "mimetype": "text/x-python",
   "name": "python",
   "nbconvert_exporter": "python",
   "pygments_lexer": "ipython3",
   "version": "3.12.4"
  }
 },
 "nbformat": 4,
 "nbformat_minor": 5
}
